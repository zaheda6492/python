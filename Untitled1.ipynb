{
  "nbformat": 4,
  "nbformat_minor": 0,
  "metadata": {
    "colab": {
      "provenance": [],
      "authorship_tag": "ABX9TyOBFoEHHvvQkzrKjJrBfyee",
      "include_colab_link": true
    },
    "kernelspec": {
      "name": "python3",
      "display_name": "Python 3"
    },
    "language_info": {
      "name": "python"
    }
  },
  "cells": [
    {
      "cell_type": "markdown",
      "metadata": {
        "id": "view-in-github",
        "colab_type": "text"
      },
      "source": [
        "<a href=\"https://colab.research.google.com/github/zaheda6492/python/blob/main/Untitled1.ipynb\" target=\"_parent\"><img src=\"https://colab.research.google.com/assets/colab-badge.svg\" alt=\"Open In Colab\"/></a>"
      ]
    },
    {
      "cell_type": "code",
      "execution_count": null,
      "metadata": {
        "id": "ly7ec8G_FUO-"
      },
      "outputs": [],
      "source": [
        "\n",
        "import math as mt\n",
        "rating=input(\"Enter Transformer Rating in VA\")\n",
        "\n",
        "core=input(\"Enter Transformer core losses in Watts\")\n",
        "fcl=input(\"Enter Transformer full load copper losses in Watts\")\n",
        "pf=input(\"enter Transformer power factor\")\n",
        "k=input(\"Transformre Loading\")\n",
        "\n",
        "op=float(k)*float(rating)*float(pf)\n",
        "cl=(float(k)**2)*float(fcl)\n",
        "eff=(op*100)/(op+float(core)+cl)\n",
        "kmax=mt.sqrt(float(core)/float(fcl))\n",
        "\n",
        "\n",
        "print(\"Rating of Tansformer=\", float(rating),\"VA\")\n",
        "print(\"core losses of Tansformer=\", float(core),\"W\")\n",
        "print(\"Full load copper losses of Tansformer=\", float(fcl),\"W\")\n",
        "print(\"power factor=\", float(pf))\n",
        "print(\"Transformer Loadingr=\", float(k))\n",
        "\n",
        "print(\"Copper losses=\", cl,\"W\")\n",
        "print(\"Effeciency=\", eff,\"%\")\n",
        "print(\"Loading at which tranfomrer has max Effeciency=\", kmax*100,\"%\")\n"
      ]
    }
  ]
}